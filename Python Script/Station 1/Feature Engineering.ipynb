{
 "cells": [
  {
   "cell_type": "code",
   "execution_count": 1,
   "metadata": {},
   "outputs": [],
   "source": [
    "#import pandas as pd\n",
    "import pandas as pd\n",
    "\n",
    "#importing numpy as np\n",
    "import numpy as np\n",
    "\n",
    "#import matplotlib.pyplot as plt\n",
    "import matplotlib.pyplot as plt\n",
    "\n",
    "#import seaborn as sns\n",
    "import seaborn as sns"
   ]
  },
  {
   "cell_type": "code",
   "execution_count": 2,
   "metadata": {},
   "outputs": [],
   "source": [
    "#Import data\n",
    "weather = pd.read_csv(r'C:\\Users\\tusha\\OneDrive\\Desktop\\FINS3635 NEOBANK Project\\Data\\Weather (2).csv', encoding = 'latin1', delimiter = ',')  # Weather file\n",
    "\n",
    "    # Client Cash Accounts\n",
    "\n",
    "filename = r'C:\\Users\\tusha\\OneDrive\\Desktop\\FINS3635 NEOBANK Project\\Data\\Client_Cash_Accounts (2).xlsx'\n",
    "\n",
    "cash_account = pd.ExcelFile(filename)\n",
    "\n",
    "\n",
    "    ## Corn Price History\n",
    "\n",
    "filename_1 = r'C:\\Users\\tusha\\OneDrive\\Desktop\\FINS3635 NEOBANK Project\\Data\\CORN_PriceHistory (4).xlsx'\n",
    "\n",
    "corn_price_history = pd.ExcelFile(filename_1)\n",
    "\n",
    "    ### Wheat Price History\n",
    "\n",
    "filename_2 = r'C:\\Users\\tusha\\OneDrive\\Desktop\\FINS3635 NEOBANK Project\\Data\\WHEAT_PriceHistory (2).xlsx'\n",
    "\n",
    "wheat_price_history = pd.ExcelFile(filename_2)\n",
    "\n",
    "# Converting excel files to Dataframes\n",
    "\n",
    "cash_account_dict = pd.read_excel(cash_account, na_values = 'Missing', sheet_name = None) # Dictionary of DataFrames\n",
    "\n",
    "corn_price_history_df = pd.read_excel(corn_price_history, na_values = 'Missing', sheet_name = 'Price History') \n",
    "\n",
    "wheat_price_history_df = pd.read_excel(wheat_price_history, na_values = 'Missing', sheet_name = 'Price History') \n"
   ]
  },
  {
   "cell_type": "code",
   "execution_count": 3,
   "metadata": {},
   "outputs": [
    {
     "name": "stdout",
     "output_type": "stream",
     "text": [
      "{'Date': {'0': 'Friday, July 31, 2020 07:00:03 PM (GMT)', '1': 'Friday, July 31, 2020 07:00:03 PM (GMT)', '2': 'Friday, July 31, 2020 07:00:03 PM (GMT)', '3': 'Wednesday, July 29, 2020 07:00:14 PM (GMT)', '4': 'Wednesday, July 29, 2020 07:00:14 PM (GMT)', '5': 'Wednesday, July 29, 2020 07:00:14 PM (GMT)', '6': 'Tuesday, July 28, 2020 07:00:42 PM (GMT)', '7': 'Tuesday, July 28, 2020 07:00:42 PM (GMT)', '8': 'Tuesday, July 28, 2020 07:00:42 PM (GMT)', '9': 'Monday, July 27, 2020 07:00:55 PM (GMT)', '10': 'Monday, July 27, 2020 07:00:55 PM (GMT)', '11': 'Monday, July 27, 2020 07:00:55 PM (GMT)', '12': 'Friday, July 24, 2020 07:00:22 PM (GMT)', '13': 'Friday, July 24, 2020 07:00:22 PM (GMT)', '14': 'Friday, July 24, 2020 07:00:22 PM (GMT)', '15': 'Thursday, July 23, 2020 07:00:40 PM (GMT)', '16': 'Thursday, July 23, 2020 07:00:40 PM (GMT)', '17': 'Wednesday, July 22, 2020 07:00:27 PM (GMT)', '18': 'Wednesday, July 22, 2020 07:00:27 PM (GMT)', '19': 'Wednesday, July 22, 2020 07:00:27 PM (GMT)', '20': 'Wednesday, July 22, 2020 03:00:38 PM (GMT)', '21': 'Wednesday, July 22, 2020 03:00:38 PM (GMT)', '22': 'Wednesday, July 22, 2020 03:00:38 PM (GMT)', '23': 'Monday, July 20, 2020 07:00:16 PM (GMT)', '24': 'Monday, July 20, 2020 07:00:16 PM (GMT)', '25': 'Friday, July 17, 2020 07:00:17 PM (GMT)', '26': 'Friday, July 17, 2020 07:00:17 PM (GMT)', '27': 'Friday, July 17, 2020 07:00:17 PM (GMT)', '28': 'Thursday, July 16, 2020 07:01:04 PM (GMT)', '29': 'Thursday, July 16, 2020 07:01:04 PM (GMT)', '30': 'Wednesday, July 15, 2020 07:00:10 PM (GMT)', '31': 'Wednesday, July 15, 2020 07:00:10 PM (GMT)', '32': 'Wednesday, July 15, 2020 07:00:10 PM (GMT)', '33': 'Tuesday, July 14, 2020 07:00:59 PM (GMT)', '34': 'Tuesday, July 14, 2020 07:00:59 PM (GMT)', '35': 'Monday, July 13, 2020 07:00:19 PM (GMT)', '36': 'Monday, July 13, 2020 07:00:19 PM (GMT)', '37': 'Friday, July 10, 2020 07:00:34 PM (GMT)', '38': 'Friday, July 10, 2020 07:00:34 PM (GMT)', '39': 'Friday, July 10, 2020 07:00:34 PM (GMT)', '40': 'Thursday, July 09, 2020 07:09:46 PM (GMT)', '41': 'Wednesday, July 08, 2020 07:00:08 PM (GMT)', '42': 'Wednesday, July 08, 2020 07:00:08 PM (GMT)', '43': 'Wednesday, July 08, 2020 07:00:08 PM (GMT)', '44': 'Tuesday, July 07, 2020 07:00:48 PM (GMT)', '45': 'Tuesday, July 07, 2020 07:00:48 PM (GMT)', '46': 'Tuesday, July 07, 2020 07:00:48 PM (GMT)', '47': 'Monday, July 06, 2020 07:00:14 PM (GMT)', '48': 'Monday, July 06, 2020 07:00:14 PM (GMT)', '49': 'Monday, July 06, 2020 07:00:14 PM (GMT)', '50': 'Thursday, July 02, 2020 06:00:50 PM (GMT)', '51': 'Thursday, July 02, 2020 06:00:50 PM (GMT)', '52': 'Thursday, July 02, 2020 06:00:50 PM (GMT)', '53': 'Wednesday, July 01, 2020 07:00:21 PM (GMT)', '54': 'Wednesday, July 01, 2020 07:00:21 PM (GMT)', '55': 'Wednesday, July 01, 2020 07:00:21 PM (GMT)', '56': 'Tuesday, June 30, 2020 03:00:58 PM (GMT)', '57': 'Tuesday, June 30, 2020 03:00:58 PM (GMT)', '58': 'Monday, June 29, 2020 07:00:03 PM (GMT)', '59': 'Monday, June 29, 2020 07:00:03 PM (GMT)', '60': 'Monday, June 29, 2020 07:00:03 PM (GMT)', '61': 'Friday, June 26, 2020 07:00:29 PM (GMT)', '62': 'Friday, June 26, 2020 07:00:29 PM (GMT)', '63': 'Thursday, June 25, 2020 07:00:16 PM (GMT)', '64': 'Thursday, June 25, 2020 07:00:16 PM (GMT)', '65': 'Wednesday, June 24, 2020 07:00:36 PM (GMT)', '66': 'Wednesday, June 24, 2020 07:00:36 PM (GMT)', '67': 'Tuesday, June 23, 2020 07:00:14 PM (GMT)', '68': 'Tuesday, June 23, 2020 07:00:14 PM (GMT)', '69': 'Tuesday, June 23, 2020 07:00:14 PM (GMT)', '70': 'Monday, June 22, 2020 07:00:28 PM (GMT)', '71': 'Monday, June 22, 2020 07:00:28 PM (GMT)', '72': 'Friday, June 19, 2020 07:00:43 PM (GMT)', '73': 'Friday, June 19, 2020 07:00:43 PM (GMT)', '74': 'Friday, June 19, 2020 07:00:43 PM (GMT)', '75': 'Thursday, June 18, 2020 07:00:07 PM (GMT)', '76': 'Thursday, June 18, 2020 07:00:07 PM (GMT)', '77': 'Thursday, June 18, 2020 07:00:07 PM (GMT)', '78': 'Wednesday, June 17, 2020 07:00:58 PM (GMT)', '79': 'Wednesday, June 17, 2020 07:00:58 PM (GMT)', '80': 'Tuesday, June 16, 2020 03:00:27 PM (GMT)', '81': 'Tuesday, June 16, 2020 03:00:27 PM (GMT)', '82': 'Monday, June 15, 2020 07:00:02 PM (GMT)', '83': 'Monday, June 15, 2020 07:00:02 PM (GMT)', '84': 'Monday, June 15, 2020 07:00:02 PM (GMT)', '85': 'Friday, June 12, 2020 07:00:30 PM (GMT)', '86': 'Friday, June 12, 2020 07:00:30 PM (GMT)', '87': 'Friday, June 12, 2020 07:00:30 PM (GMT)', '88': 'Thursday, June 11, 2020 07:02:59 PM (GMT)', '89': 'Thursday, June 11, 2020 07:02:59 PM (GMT)', '90': 'Wednesday, June 10, 2020 07:00:09 PM (GMT)', '91': 'Wednesday, June 10, 2020 07:00:09 PM (GMT)', '92': 'Wednesday, June 10, 2020 07:00:09 PM (GMT)', '93': 'Tuesday, June 09, 2020 07:02:52 PM (GMT)', '94': 'Tuesday, June 09, 2020 07:02:52 PM (GMT)', '95': 'Monday, June 08, 2020 07:00:12 PM (GMT)', '96': 'Monday, June 08, 2020 07:00:12 PM (GMT)', '97': 'Friday, June 05, 2020 03:00:26 PM (GMT)', '98': 'Friday, June 05, 2020 03:00:26 PM (GMT)', '99': 'Friday, June 05, 2020 03:00:26 PM (GMT)', '100': 'Wednesday, June 03, 2020 07:00:41 PM (GMT)', '101': 'Wednesday, June 03, 2020 07:00:41 PM (GMT)', '102': 'Wednesday, June 03, 2020 07:00:41 PM (GMT)', '103': 'Tuesday, June 02, 2020 07:00:04 PM (GMT)', '104': 'Tuesday, June 02, 2020 07:00:04 PM (GMT)', '105': 'Tuesday, June 02, 2020 07:00:04 PM (GMT)', '106': 'Monday, June 01, 2020 07:00:03 PM (GMT)', '107': 'Monday, June 01, 2020 07:00:03 PM (GMT)', '108': 'Monday, June 01, 2020 07:00:03 PM (GMT)'}, 'Source': {'0': 'SA', '1': 'SA', '2': 'SA', '3': 'SA', '4': 'SA', '5': 'SA', '6': 'SA', '7': 'SA', '8': 'SA', '9': 'SA', '10': 'SA', '11': 'SA', '12': 'SA', '13': 'SA', '14': 'SA', '15': 'SA', '16': 'SA', '17': 'SA', '18': 'SA', '19': 'SA', '20': 'SA', '21': 'SA', '22': 'SA', '23': 'SA', '24': 'SA', '25': 'SA', '26': 'SA', '27': 'SA', '28': 'SA', '29': 'SA', '30': 'SA', '31': 'SA', '32': 'SA', '33': 'SA', '34': 'SA', '35': 'SA', '36': 'SA', '37': 'SA', '38': 'SA', '39': 'SA', '40': 'SA', '41': 'SA', '42': 'SA', '43': 'SA', '44': 'SA', '45': 'SA', '46': 'SA', '47': 'SA', '48': 'SA', '49': 'SA', '50': 'SA', '51': 'SA', '52': 'SA', '53': 'SA', '54': 'SA', '55': 'SA', '56': 'SA', '57': 'SA', '58': 'SA', '59': 'SA', '60': 'SA', '61': 'SA', '62': 'SA', '63': 'SA', '64': 'SA', '65': 'SA', '66': 'SA', '67': 'SA', '68': 'SA', '69': 'SA', '70': 'SA', '71': 'SA', '72': 'SA', '73': 'SA', '74': 'SA', '75': 'SA', '76': 'SA', '77': 'SA', '78': 'SA', '79': 'SA', '80': 'SA', '81': 'SA', '82': 'SA', '83': 'SA', '84': 'SA', '85': 'SA', '86': 'SA', '87': 'SA', '88': 'SA', '89': 'SA', '90': 'SA', '91': 'SA', '92': 'SA', '93': 'SA', '94': 'SA', '95': 'SA', '96': 'SA', '97': 'SA', '98': 'SA', '99': 'SA', '100': 'SA', '101': 'SA', '102': 'SA', '103': 'SA', '104': 'SA', '105': 'SA', '106': 'SA', '107': 'SA', '108': 'SA'}, 'Headline': {'0': \"Soybeans maintained gains as the EIA's Monthly Biodiesel Production Report showed a jump in soybean oil used for biodiesel\", '1': 'Wheat pared gains in the afternoon as traders weighed commentary indicating mostly dry conditions on the Plains', '2': 'Corn was slightly lower and finished the week near a three-month low amid private export sales announced this morning of 114K MT to Mexico', '3': 'Wheat furthered intraday gains ahead of weekly export sales due tomorrow morning, with Reuters noting a trimmed outlook for Russian output', '4': 'Soybeans settled with a small loss amid limited intraday newsflow, with early USDA commentary indicating little heat stress on crops in the Corn Belt', '5': 'Corn extended declines amid EIA data showing ethanol inventories built +471K barrels w/w, while production increased +50K bpd', '6': 'Corn topped declines on the CRB, leading the index lower amid f/x volatility and extending losses for a third session following an improvement in weekly crop ratings', '7': 'Wheat settled lower for a second session following an unchanged w/w crop rating', '8': ' soybeans settled lower, furthering a string of choppy trading, with an improved weekly crop condition weighing on prices', '9': 'Soybeans settled nearly unchanged amid private export sales announced this morning including 250K MT to Mexico and 132K MT to China; meanwhile, YTD export inspections trailed the comparable period last year', '10': 'Corn settled with a narrow decline, but off earlier lows amid mixed export inspections data as a w/w drop was weighed against a y/y increase', '11': \"Wheat faded to session lows ahead of tonight's Crop Progress update, with investors weighing a jump in export inspections vs both last week and the year-ago period\", '12': 'Wheat led CRB gainers amid trimmed production and carryout estimates from the International Grains Council, while the USDA noted topsoil moisture improvements on the southern Plains', '13': 'Soybeans recouped a mid-day decline to settle nearly flat amid USDA private export sales announcements including 252K MT of soybeans to unknown destinations, as well as 133K MT of cake and meal to the Philippines', '14': \"Corn reversed earlier gains to settle lower as investors digested a reduction to the IGC's global production forecast\", '15': 'Wheat settled lower for the first time in three sessions as the market shrugged off export sales above the high end of expectations', '16': 'Soybeans settled higher for a second session following export sales near the high end of expectations; corn recovered an earlier loss and settled higher for a second session as the market digested mixed weekly export sales data', '17': 'Corn rebounded to lead the grains group amid a weekly ethanol storage decline of (807K) barrels; the EIA also reported production dropped (23K) bpd vs the prior week', '18': 'Wheat furthered gains as newsflow remained relatively light ahead of USDA export sales data scheduled to be released tomorrow morning', '19': 'Soybeans flipped to an intraday gain as traders continued to weigh USDA private export sales announcements including 453K MT to China', '20': 'Soybeans have reversed a brief mid-morning gain to trade lower as the USDA disclosed private export sales announcements this morning including 453K MT to China', '21': \"Corn is finding a bounce ahead of weekly ethanol storage data expected from the EIA during today's session\", '22': \"Wheat is extending yesterday's recovery amid mostly dry weather on the US Plains, with moisture shortages remaining a concern in southern areas\", '23': \"Wheat's losing streak reached a third day as the market weighed a y/y increase in export inspections against a w/w decline; corn remained lower amid USDA export inspections ahead of both last week and the year-ago comparable period\", '24': 'Soybeans settled with a fifth consecutive gain amid private export sales of 132K MT to China announced this morning, while weekly export inspections dropped sequentially', '25': 'Corn led the grains group as investors kept an eye on forecasts for upcoming rain in parts of the Corn Belt region', '26': 'Soybeans settled higher for a fourth consecutive day as the USDA reported private export sales of 126K MT to unknown destinations earlier in the day', '27': 'Wheat finished the day unchanged amid light newsflow, with traders weighing morning USDA commentary on mixed conditions on the US Plains', '28': \"Wheat pulled back from yesterday's three-month high despite stronger than expected weekly export sales\", '29': 'Corn settled higher for a second session as the market digested export sales above the four-week average, while soybeans settled higher for a third session as the market shrugged off below-average weekly export sales', '30': 'Wheat rallied to a twelve-week high as the market monitored the ongoing winter crop harvest, in addition to spring crop development', '31': 'Soybeans settled near afternoon highs as NOPA June crushings were said to be well above expectations', '32': 'Corn ended the session nearly unchanged in choppy trading amid an ethanol storage decline of (12K) barrels, while weekly production was +17K bpd higher vs last week', '33': 'Corn retraced an earlier gain and extended losses to a new two-week low despite a sizeable export sales announcement, a lowered weekly crop condition and a reduced Brazilian production projection', '34': 'Wheat resumed gains following a decline in weekly crop conditions after pulling back yesterday from a two-month high; soybeans recovered from a two-month high following a w/w decline in crop ratings', '35': \"Corn furthered losses to a two-week low despite expectations for this week's crop progress report to show a decline in crop conditions; wheat pulled back from a rally to a two-month high as the market shrugged off an increase in weekly export inspections and a lowered Russian production forecast\", '36': 'Soybeans extended losses to a two-week low following a decline in export inspections data', '37': 'Wheat added to earlier gains as investors digested the monthly WASDE report released mid-day; the data appeared bullish for wheat as US carryout was raised less than expected, while production saw a larger cut', '38': 'Soybeans pulled back following the supply/demand data amid US ending stocks slightly more than consensus, outweighing a below-expected increase to the production estimate', '39': 'Corn topped CRB decliners after extending its fade into the end of the session despite downward revisions to US production and ending stocks', '40': \"Grains all finished in positive territory following this morning's upbeat export sales data, led by wheat's 1.4% gain, followed by corn up about a percent and soybeans at +0.5%, with price action also likely reflecting some positioning ahead of tomorrow's WASDE report\", '41': 'Wheat led the CRB after reaching its best level in a month as focus remained primarily on upcoming USDA reports, with weekly export sales due tomorrow morning and monthly supply/demand to follow on Friday', '42': 'Corn bounced from morning lows as the market digested a weekly ethanol storage increase of +456K barrels, while production was +14K bpd higher', '43': 'Soybeans continued to pull back from a four-month high amid USDA commentary highlighting crop stress in the Corn Belt due to hot conditions in the region', '44': 'Wheat outperformed the grains group as the USDA Crop Progress report remained the primary focus, with winter harvest progress nearly in line with last year and spring crop progress lagging the five-year average', '45': \"Soybeans returned to session lows amid above-average crop blooming and steady conditions; meanwhile, Chinese purchases continued to receive attention as traders monitor headlines on the country's compliance with the Phase 1 trade deal\", '46': 'Corn pulled back despite a larger-than-expected decline in crop conditions, with investors awaiting weekly ethanol storage data due tomorrow', '47': 'Soybeans reached a four-month high amid private export sales to China of 264K MT, while Brazilian crop sales were said to be progressing ahead of last year', '48': \"Corn settled higher for the fourth time in five sessions ahead of tonight's Crop Progress report, with private export sales in focus following announcements of 204K MT to China and 183K MT to Mexico\", '49': \"Wheat recovered from mid-morning lows amid a reported trim in Argentine planting estimates; meanwhile, the monthly WASDE is expected to highlight this week's calendar ahead of its release on Friday\", '50': 'Soybeans pulled back slightly after gaining ~4% over the previous two days amid private export sales of 126K MT to China announced by the USDA, while below-expected May crush data worked to cap upside', '51': 'Wheat ended the session near lows, but remained higher for the week as investors considered in-line export sales data released by the USDA this morning', '52': 'Corn led weakness in the grains group after fading from a three-month high amid updates including private export sales to China of 202K MT', '53': \"Corn led the grains group higher for a second day as yesterday's bullish Acreage report from the USDA continued to provide support, while the EIA disclosed a weekly ethanol storage drawdown of (870K) barrels; meanwhile, monthly Grain Crushings are due later today\", '54': 'Soybeans extended gains to a four-month high amid reported expectations for a y/y jump in May crushings ahead of the Fats & Oils report expected later this afternoon', '55': 'Wheat recovered to session highs as USDA commentary this morning indicated persistent crop stress on the southern Plains amid drought conditions in the region', '56': 'Soybeans are trading higher for a second session as the market digests an improvement in weekly crop ratings', '57': 'Wheat is trading higher for a second session as the market digests a w/w improvement in crop conditions, while corn is trading lower for a second session ahead of the USDA planting and Grain Stocks reports due at noon', '58': \"Corn extended intraday gains as focus remained primarily on the USDA's annual Acreage and quarterly Grain Stocks reports due during tomorrow's session; meanwhile, a y/y jump in export inspections data was also noted\", '59': \"Wheat recouped declines from Friday's pullback to a nine-month low, with winter crop harvest progress said to be in focus ahead of Crop Progress data this evening\", '60': 'Soybeans settled unchanged following a choppy session as traders weighed a w/w jump in export inspections against a y/y decline', '61': \"Wheat settled at a nine-month low as the market shrugged off a lowered EU production forecast and expectations for a decline in quarterly stocks in next week's USDA report\", '62': 'Soybeans furthered losses to a three-week low, while corn retraced an earlier gain and extended a pullback to a seven-week low following increased production projections from the International Grains Council', '63': \"Wheat settled higher for the third time in four sessions as the market digested in-line weekly export sales data, lowered stock expectations in next week's Grain Stocks report and an increased global production forecast from the International Grains Council\", '64': \"Corn settled lower for a third session following lackluster weekly export sales, while soybeans extended losses for a fourth session following in-line export sales and expectations that next week's USDA Acreage report will show an increase in planting projections\", '65': 'Wheat settled lower for the first time in three sessions amid generally favorable US crop conditions', '66': 'Soybeans extended losses for a third session amid steady US planting progress, while corn settled lower for a third session following an increased Brazilian crop forecast', '67': 'Corn settled lower for a second day as investors digested USDA Crop Progress data issued last night, with a surprise w/w ratings improvement in focus', '68': 'Soybeans settled little changed following brief overnight volatility as the market weighed trade headlines; meanwhile, the USDA noted above-average crop progress and a w/w decline in ratings', '69': 'Wheat managed a small gain amid a larger-than-expected decline in spring crop ratings, while winter conditions unexpectedly improved according to USDA data', '70': 'Wheat climbed to session highs, with traders weighing USDA comments on recent rainfall on the Plains amid otherwise light newsflow ahead of Crop Progress data later today', '71': 'Soybeans ended the session little changed, while corn settled on lows amid USDA commentary this morning indicating adequate soil moisture in most of the Corn Belt, while some pockets of dryness in the Midwest were also noted', '72': \"Corn led the grains group as Bloomberg's morning report indicating China plans to accelerate ag purchases from US producers remained in focus\", '73': \"Soybeans furthered recent gains, settling on their highest level since early April as the Buenos Aires Grain Exchange indicated the country's harvest is essentially complete\", '74': 'Wheat settled with a fourth consecutive loss, but pared earlier declines as the USDA discussed storms on the Plains in its morning commentary, with newsflow remaining otherwise light ahead of the weekend', '75': 'Soybeans settled near an eleven-week high despite softer weekly export sales, with the USDA also highlighting increased sales to China', '76': 'Corn ended the session nearly flat as a decline in export sales worked to limit upside; meanwhile, the USDA commented on beneficial rains in the Corn Belt', '77': 'Wheat extending recent weakness to its lowest level since September as investors shrugged off increased export sales data, as well as drought conditions in some growing areas on the Plains', '78': 'Soybeans and corn settled higher for the first time in three sessions ahead of weekly export sales data due tomorrow', '79': 'Wheat topped declines on the CRB, extending a sell-off to an eight-month low with an increased Brazilian production projection weighing in prices', '80': 'Corn is trading higher for the third time in four sessions following a decline in weekly crop conditions and a lower planting projection from IEG Vantage', '81': \"Wheat is trading lower for the first time in three sessions despite slower than normal crop development progress and a w/w decline in crop conditions; soybeans are trading lower for a second session as the market digests yesterday's lower than expected NOPA crush report and an increased planting forecast from IEG Vantage\", '82': \"Wheat managed a second day of gains as analysts were said to expect below-average winter wheat harvest progress ahead of this evening's Crop Progress report\", '83': 'Corn ended the session essentially flat after recovering from morning lows amid export inspections lagging last week, but ahead of the year-ago period', '84': 'Soybeans settled with a narrow loss as investors digested private export sales of 390K to China announced by the USDA, as well as NOPA May crush data that was said to miss expectations', '85': \"Corn ended the session with a small gain as yesterday's WASDE remained in focus amid otherwise light newsflow, with the old crop ending stocks forecast raised less than expected\", '86': 'Wheat settled modestly higher, but off earlier levels as traders continued to weigh higher ending stocks projections in the monthly WASDE report', '87': 'Soybeans reached a two-month high as the Buenos Aires Grain Exchange was said to report a near-completed harvest in the country; meanwhile, the USDA announced private export sales of 120K MT to unknown destinations', '88': 'Wheat resumed a pullback, settling at a three-week low following a bearish WASDE release that included increased ending stocks and production projections', '89': 'Corn settled higher for the first time in three sessions with a smaller than expected increase to ending stocks estimates and lowered global ending stocks projection helping to support prices; soybeans settled modestly higher with a lowered world ending stocks projection helping to support prices', '90': 'Wheat found an afternoon bounce amid mixed ending stocks expectations ahead of the monthly WASDE report', '91': \"Soybeans held onto a small gain as analysts were said to be looking for increases to the USDA's production and yield estimates\", '92': 'Corn settled slightly lower amid a weekly ethanol storage decline of (674K) barrels and production increase of +72K bpd; meanwhile, reported expectations for a lower production forecast in the WASDE were also in focus', '93': 'Corn topped declines on the CRB, pulling back from a two-month high amid a w/w improvement in crop conditions and a lowered Brazilian crop forecast ahead of WASDE data due on Thursday; wheat furthered losses to a three-week low with as the market digested modestly slower than normal planting progress', '94': 'Soybeans settled lower for a second session with steady US planting progress and a w/w improvement in crop ratings outweighing a lowered Brazilian production projection', '95': 'Wheat held lower ahead of Crop Progress data due this evening, while investors are expected to shift focus to monthly supply/demand data expected on Thursday', '96': 'Soybeans retreated from a two-month high as consensus was said to expect the USDA to report above-average planting progress this evening; meanwhile, corn settled higher amid reported expectations for seasonal plantings to be nearly complete', '97': \"Corn is adding to yesterday's gain as the USDA noted favorable conditions for crop development in the Corn Belt in its morning commentary\", '98': 'Soybeans are in the red as investors weigh private export sales announced by the USDA totaling 588K MT to unknown destinations', '99': 'Wheat is fading to morning lows amid showers said to provide relief in some Plains regions, while drought conditions were reported to persist elsewhere in central and southern areas', '100': 'Soybeans settled on intraday highs amid private export sales of 186K MT to unknown destinations, while traders awaited further updates on Chinese purchases', '101': 'Wheat bounced ahead of weekly export sales data due tomorrow morning, with further reports of crop stress in focus amid drought conditions in some Plains areas', '102': 'Corn recouped earlier losses to end the session unchanged amid EIA data showing ethanol stocks declined by (700K) barrels, while production increased +41K bpd over the previous week', '103': 'Soybeans reached a three-week high amid private export sales of 132K MT to China announced by the USDA; meanwhile, an above-expected April crush of 183M barrels remained in focus following the monthly Fats & Oils report', '104': 'Corn was little changed throughout the session , settling slightly higher as the monthly Grain Crushings report showed a decline in April grindings compared to both March and the prior year', '105': 'Wheat pulled back to session lows as investors digested the weekly Crop Progress update, with the USDA reporting a below-average pace of spring crop emergence', '106': 'Soybeans gave back earlier gains to settle nearly flat ahead of the Fats & Oils report; headlines that China may pause soybean purchases remained in focus, while Reuters reported state-owned companies purchased at least three US shipments today', '107': 'Corn settled in the red, but off mid-morning lows as traders awaited monthly the Grain Crushings report expected from the USDA later in the afternoon', '108': 'Wheat settled lower for the first time in three sessions ahead of crop progress data, with consensus said to expect spring plantings behind the average pace'}}\n"
     ]
    }
   ],
   "source": [
    "import requests\n",
    "r = requests.get('https://static.edusercontent.com/files/BUepgY4mvJhNPcAZ45STXyot')\n",
    "json_news = r.json()\n",
    "print(json_news)"
   ]
  },
  {
   "cell_type": "code",
   "execution_count": 4,
   "metadata": {},
   "outputs": [],
   "source": [
    "news = pd.DataFrame(columns = ['Date', 'Source', 'Headline'], data = json_news)"
   ]
  },
  {
   "cell_type": "code",
   "execution_count": 5,
   "metadata": {},
   "outputs": [
    {
     "name": "stdout",
     "output_type": "stream",
     "text": [
      "Stored 'news' (DataFrame)\n"
     ]
    }
   ],
   "source": [
    "%store news"
   ]
  },
  {
   "cell_type": "code",
   "execution_count": 6,
   "metadata": {},
   "outputs": [
    {
     "name": "stdout",
     "output_type": "stream",
     "text": [
      "Date                                  0\n",
      "Minimum temperature (°C)              9\n",
      "Maximum temperature (°C)             13\n",
      "Rainfall (mm)                         0\n",
      "Direction of maximum wind gust        1\n",
      "Speed of maximum wind gust (km/h)     1\n",
      "Time of maximum wind gust             1\n",
      "9am Temperature (°C)                  3\n",
      "9am relative humidity (%)             3\n",
      "9am wind direction                    0\n",
      "9am wind speed (km/h)                 0\n",
      "3pm Temperature (°C)                  4\n",
      "3pm relative humidity (%)             4\n",
      "3pm wind direction                    0\n",
      "3pm wind speed (km/h)                 0\n",
      "dtype: int64\n"
     ]
    }
   ],
   "source": [
    "# Cleansing and transforming weather to prepare for Station 2\n",
    "\n",
    "    #Checking missing values\n",
    "print(weather.isnull().sum())\n",
    "\n",
    "    # Using interpolate() to fill in missing values in DataFrame using linear method\n",
    "\n",
    "weather = weather.interpolate(method = 'linear', limit_direction = 'forward') # Direction of maximum wind gust has null value\n"
   ]
  },
  {
   "cell_type": "code",
   "execution_count": 7,
   "metadata": {},
   "outputs": [
    {
     "name": "stdout",
     "output_type": "stream",
     "text": [
      "Series([], Name: Date, dtype: object)\n"
     ]
    },
    {
     "name": "stderr",
     "output_type": "stream",
     "text": [
      "C:\\Users\\tusha\\AppData\\Local\\Temp\\ipykernel_22920\\3608124081.py:3: UserWarning: Parsing '13/10/2019' in DD/MM/YYYY format. Provide format or specify infer_datetime_format=True for consistent parsing.\n",
      "  weather['Date'] = pd.to_datetime(weather['Date']).dt.date\n",
      "C:\\Users\\tusha\\AppData\\Local\\Temp\\ipykernel_22920\\3608124081.py:3: UserWarning: Parsing '14/10/2019' in DD/MM/YYYY format. Provide format or specify infer_datetime_format=True for consistent parsing.\n",
      "  weather['Date'] = pd.to_datetime(weather['Date']).dt.date\n",
      "C:\\Users\\tusha\\AppData\\Local\\Temp\\ipykernel_22920\\3608124081.py:3: UserWarning: Parsing '15/10/2019' in DD/MM/YYYY format. Provide format or specify infer_datetime_format=True for consistent parsing.\n",
      "  weather['Date'] = pd.to_datetime(weather['Date']).dt.date\n",
      "C:\\Users\\tusha\\AppData\\Local\\Temp\\ipykernel_22920\\3608124081.py:3: UserWarning: Parsing '16/10/2019' in DD/MM/YYYY format. Provide format or specify infer_datetime_format=True for consistent parsing.\n",
      "  weather['Date'] = pd.to_datetime(weather['Date']).dt.date\n",
      "C:\\Users\\tusha\\AppData\\Local\\Temp\\ipykernel_22920\\3608124081.py:3: UserWarning: Parsing '17/10/2019' in DD/MM/YYYY format. Provide format or specify infer_datetime_format=True for consistent parsing.\n",
      "  weather['Date'] = pd.to_datetime(weather['Date']).dt.date\n",
      "C:\\Users\\tusha\\AppData\\Local\\Temp\\ipykernel_22920\\3608124081.py:3: UserWarning: Parsing '18/10/2019' in DD/MM/YYYY format. Provide format or specify infer_datetime_format=True for consistent parsing.\n",
      "  weather['Date'] = pd.to_datetime(weather['Date']).dt.date\n",
      "C:\\Users\\tusha\\AppData\\Local\\Temp\\ipykernel_22920\\3608124081.py:3: UserWarning: Parsing '19/10/2019' in DD/MM/YYYY format. Provide format or specify infer_datetime_format=True for consistent parsing.\n",
      "  weather['Date'] = pd.to_datetime(weather['Date']).dt.date\n",
      "C:\\Users\\tusha\\AppData\\Local\\Temp\\ipykernel_22920\\3608124081.py:3: UserWarning: Parsing '20/10/2019' in DD/MM/YYYY format. Provide format or specify infer_datetime_format=True for consistent parsing.\n",
      "  weather['Date'] = pd.to_datetime(weather['Date']).dt.date\n",
      "C:\\Users\\tusha\\AppData\\Local\\Temp\\ipykernel_22920\\3608124081.py:3: UserWarning: Parsing '21/10/2019' in DD/MM/YYYY format. Provide format or specify infer_datetime_format=True for consistent parsing.\n",
      "  weather['Date'] = pd.to_datetime(weather['Date']).dt.date\n",
      "C:\\Users\\tusha\\AppData\\Local\\Temp\\ipykernel_22920\\3608124081.py:3: UserWarning: Parsing '22/10/2019' in DD/MM/YYYY format. Provide format or specify infer_datetime_format=True for consistent parsing.\n",
      "  weather['Date'] = pd.to_datetime(weather['Date']).dt.date\n",
      "C:\\Users\\tusha\\AppData\\Local\\Temp\\ipykernel_22920\\3608124081.py:3: UserWarning: Parsing '23/10/2019' in DD/MM/YYYY format. Provide format or specify infer_datetime_format=True for consistent parsing.\n",
      "  weather['Date'] = pd.to_datetime(weather['Date']).dt.date\n",
      "C:\\Users\\tusha\\AppData\\Local\\Temp\\ipykernel_22920\\3608124081.py:3: UserWarning: Parsing '24/10/2019' in DD/MM/YYYY format. Provide format or specify infer_datetime_format=True for consistent parsing.\n",
      "  weather['Date'] = pd.to_datetime(weather['Date']).dt.date\n",
      "C:\\Users\\tusha\\AppData\\Local\\Temp\\ipykernel_22920\\3608124081.py:3: UserWarning: Parsing '25/10/2019' in DD/MM/YYYY format. Provide format or specify infer_datetime_format=True for consistent parsing.\n",
      "  weather['Date'] = pd.to_datetime(weather['Date']).dt.date\n",
      "C:\\Users\\tusha\\AppData\\Local\\Temp\\ipykernel_22920\\3608124081.py:3: UserWarning: Parsing '26/10/2019' in DD/MM/YYYY format. Provide format or specify infer_datetime_format=True for consistent parsing.\n",
      "  weather['Date'] = pd.to_datetime(weather['Date']).dt.date\n",
      "C:\\Users\\tusha\\AppData\\Local\\Temp\\ipykernel_22920\\3608124081.py:3: UserWarning: Parsing '27/10/2019' in DD/MM/YYYY format. Provide format or specify infer_datetime_format=True for consistent parsing.\n",
      "  weather['Date'] = pd.to_datetime(weather['Date']).dt.date\n",
      "C:\\Users\\tusha\\AppData\\Local\\Temp\\ipykernel_22920\\3608124081.py:3: UserWarning: Parsing '28/10/2019' in DD/MM/YYYY format. Provide format or specify infer_datetime_format=True for consistent parsing.\n",
      "  weather['Date'] = pd.to_datetime(weather['Date']).dt.date\n",
      "C:\\Users\\tusha\\AppData\\Local\\Temp\\ipykernel_22920\\3608124081.py:3: UserWarning: Parsing '29/10/2019' in DD/MM/YYYY format. Provide format or specify infer_datetime_format=True for consistent parsing.\n",
      "  weather['Date'] = pd.to_datetime(weather['Date']).dt.date\n",
      "C:\\Users\\tusha\\AppData\\Local\\Temp\\ipykernel_22920\\3608124081.py:3: UserWarning: Parsing '30/10/2019' in DD/MM/YYYY format. Provide format or specify infer_datetime_format=True for consistent parsing.\n",
      "  weather['Date'] = pd.to_datetime(weather['Date']).dt.date\n",
      "C:\\Users\\tusha\\AppData\\Local\\Temp\\ipykernel_22920\\3608124081.py:3: UserWarning: Parsing '31/10/2019' in DD/MM/YYYY format. Provide format or specify infer_datetime_format=True for consistent parsing.\n",
      "  weather['Date'] = pd.to_datetime(weather['Date']).dt.date\n",
      "C:\\Users\\tusha\\AppData\\Local\\Temp\\ipykernel_22920\\3608124081.py:3: UserWarning: Parsing '13/11/2019' in DD/MM/YYYY format. Provide format or specify infer_datetime_format=True for consistent parsing.\n",
      "  weather['Date'] = pd.to_datetime(weather['Date']).dt.date\n",
      "C:\\Users\\tusha\\AppData\\Local\\Temp\\ipykernel_22920\\3608124081.py:3: UserWarning: Parsing '14/11/2019' in DD/MM/YYYY format. Provide format or specify infer_datetime_format=True for consistent parsing.\n",
      "  weather['Date'] = pd.to_datetime(weather['Date']).dt.date\n",
      "C:\\Users\\tusha\\AppData\\Local\\Temp\\ipykernel_22920\\3608124081.py:3: UserWarning: Parsing '15/11/2019' in DD/MM/YYYY format. Provide format or specify infer_datetime_format=True for consistent parsing.\n",
      "  weather['Date'] = pd.to_datetime(weather['Date']).dt.date\n",
      "C:\\Users\\tusha\\AppData\\Local\\Temp\\ipykernel_22920\\3608124081.py:3: UserWarning: Parsing '16/11/2019' in DD/MM/YYYY format. Provide format or specify infer_datetime_format=True for consistent parsing.\n",
      "  weather['Date'] = pd.to_datetime(weather['Date']).dt.date\n",
      "C:\\Users\\tusha\\AppData\\Local\\Temp\\ipykernel_22920\\3608124081.py:3: UserWarning: Parsing '17/11/2019' in DD/MM/YYYY format. Provide format or specify infer_datetime_format=True for consistent parsing.\n",
      "  weather['Date'] = pd.to_datetime(weather['Date']).dt.date\n",
      "C:\\Users\\tusha\\AppData\\Local\\Temp\\ipykernel_22920\\3608124081.py:3: UserWarning: Parsing '18/11/2019' in DD/MM/YYYY format. Provide format or specify infer_datetime_format=True for consistent parsing.\n",
      "  weather['Date'] = pd.to_datetime(weather['Date']).dt.date\n",
      "C:\\Users\\tusha\\AppData\\Local\\Temp\\ipykernel_22920\\3608124081.py:3: UserWarning: Parsing '19/11/2019' in DD/MM/YYYY format. Provide format or specify infer_datetime_format=True for consistent parsing.\n",
      "  weather['Date'] = pd.to_datetime(weather['Date']).dt.date\n",
      "C:\\Users\\tusha\\AppData\\Local\\Temp\\ipykernel_22920\\3608124081.py:3: UserWarning: Parsing '20/11/2019' in DD/MM/YYYY format. Provide format or specify infer_datetime_format=True for consistent parsing.\n",
      "  weather['Date'] = pd.to_datetime(weather['Date']).dt.date\n",
      "C:\\Users\\tusha\\AppData\\Local\\Temp\\ipykernel_22920\\3608124081.py:3: UserWarning: Parsing '21/11/2019' in DD/MM/YYYY format. Provide format or specify infer_datetime_format=True for consistent parsing.\n",
      "  weather['Date'] = pd.to_datetime(weather['Date']).dt.date\n",
      "C:\\Users\\tusha\\AppData\\Local\\Temp\\ipykernel_22920\\3608124081.py:3: UserWarning: Parsing '22/11/2019' in DD/MM/YYYY format. Provide format or specify infer_datetime_format=True for consistent parsing.\n",
      "  weather['Date'] = pd.to_datetime(weather['Date']).dt.date\n",
      "C:\\Users\\tusha\\AppData\\Local\\Temp\\ipykernel_22920\\3608124081.py:3: UserWarning: Parsing '23/11/2019' in DD/MM/YYYY format. Provide format or specify infer_datetime_format=True for consistent parsing.\n",
      "  weather['Date'] = pd.to_datetime(weather['Date']).dt.date\n",
      "C:\\Users\\tusha\\AppData\\Local\\Temp\\ipykernel_22920\\3608124081.py:3: UserWarning: Parsing '24/11/2019' in DD/MM/YYYY format. Provide format or specify infer_datetime_format=True for consistent parsing.\n",
      "  weather['Date'] = pd.to_datetime(weather['Date']).dt.date\n",
      "C:\\Users\\tusha\\AppData\\Local\\Temp\\ipykernel_22920\\3608124081.py:3: UserWarning: Parsing '25/11/2019' in DD/MM/YYYY format. Provide format or specify infer_datetime_format=True for consistent parsing.\n",
      "  weather['Date'] = pd.to_datetime(weather['Date']).dt.date\n",
      "C:\\Users\\tusha\\AppData\\Local\\Temp\\ipykernel_22920\\3608124081.py:3: UserWarning: Parsing '26/11/2019' in DD/MM/YYYY format. Provide format or specify infer_datetime_format=True for consistent parsing.\n",
      "  weather['Date'] = pd.to_datetime(weather['Date']).dt.date\n",
      "C:\\Users\\tusha\\AppData\\Local\\Temp\\ipykernel_22920\\3608124081.py:3: UserWarning: Parsing '27/11/2019' in DD/MM/YYYY format. Provide format or specify infer_datetime_format=True for consistent parsing.\n",
      "  weather['Date'] = pd.to_datetime(weather['Date']).dt.date\n",
      "C:\\Users\\tusha\\AppData\\Local\\Temp\\ipykernel_22920\\3608124081.py:3: UserWarning: Parsing '28/11/2019' in DD/MM/YYYY format. Provide format or specify infer_datetime_format=True for consistent parsing.\n",
      "  weather['Date'] = pd.to_datetime(weather['Date']).dt.date\n",
      "C:\\Users\\tusha\\AppData\\Local\\Temp\\ipykernel_22920\\3608124081.py:3: UserWarning: Parsing '29/11/2019' in DD/MM/YYYY format. Provide format or specify infer_datetime_format=True for consistent parsing.\n",
      "  weather['Date'] = pd.to_datetime(weather['Date']).dt.date\n",
      "C:\\Users\\tusha\\AppData\\Local\\Temp\\ipykernel_22920\\3608124081.py:3: UserWarning: Parsing '30/11/2019' in DD/MM/YYYY format. Provide format or specify infer_datetime_format=True for consistent parsing.\n",
      "  weather['Date'] = pd.to_datetime(weather['Date']).dt.date\n",
      "C:\\Users\\tusha\\AppData\\Local\\Temp\\ipykernel_22920\\3608124081.py:3: UserWarning: Parsing '13/12/2019' in DD/MM/YYYY format. Provide format or specify infer_datetime_format=True for consistent parsing.\n",
      "  weather['Date'] = pd.to_datetime(weather['Date']).dt.date\n",
      "C:\\Users\\tusha\\AppData\\Local\\Temp\\ipykernel_22920\\3608124081.py:3: UserWarning: Parsing '14/12/2019' in DD/MM/YYYY format. Provide format or specify infer_datetime_format=True for consistent parsing.\n",
      "  weather['Date'] = pd.to_datetime(weather['Date']).dt.date\n",
      "C:\\Users\\tusha\\AppData\\Local\\Temp\\ipykernel_22920\\3608124081.py:3: UserWarning: Parsing '15/12/2019' in DD/MM/YYYY format. Provide format or specify infer_datetime_format=True for consistent parsing.\n",
      "  weather['Date'] = pd.to_datetime(weather['Date']).dt.date\n",
      "C:\\Users\\tusha\\AppData\\Local\\Temp\\ipykernel_22920\\3608124081.py:3: UserWarning: Parsing '16/12/2019' in DD/MM/YYYY format. Provide format or specify infer_datetime_format=True for consistent parsing.\n",
      "  weather['Date'] = pd.to_datetime(weather['Date']).dt.date\n",
      "C:\\Users\\tusha\\AppData\\Local\\Temp\\ipykernel_22920\\3608124081.py:3: UserWarning: Parsing '17/12/2019' in DD/MM/YYYY format. Provide format or specify infer_datetime_format=True for consistent parsing.\n",
      "  weather['Date'] = pd.to_datetime(weather['Date']).dt.date\n",
      "C:\\Users\\tusha\\AppData\\Local\\Temp\\ipykernel_22920\\3608124081.py:3: UserWarning: Parsing '18/12/2019' in DD/MM/YYYY format. Provide format or specify infer_datetime_format=True for consistent parsing.\n",
      "  weather['Date'] = pd.to_datetime(weather['Date']).dt.date\n",
      "C:\\Users\\tusha\\AppData\\Local\\Temp\\ipykernel_22920\\3608124081.py:3: UserWarning: Parsing '19/12/2019' in DD/MM/YYYY format. Provide format or specify infer_datetime_format=True for consistent parsing.\n",
      "  weather['Date'] = pd.to_datetime(weather['Date']).dt.date\n",
      "C:\\Users\\tusha\\AppData\\Local\\Temp\\ipykernel_22920\\3608124081.py:3: UserWarning: Parsing '20/12/2019' in DD/MM/YYYY format. Provide format or specify infer_datetime_format=True for consistent parsing.\n",
      "  weather['Date'] = pd.to_datetime(weather['Date']).dt.date\n",
      "C:\\Users\\tusha\\AppData\\Local\\Temp\\ipykernel_22920\\3608124081.py:3: UserWarning: Parsing '21/12/2019' in DD/MM/YYYY format. Provide format or specify infer_datetime_format=True for consistent parsing.\n",
      "  weather['Date'] = pd.to_datetime(weather['Date']).dt.date\n",
      "C:\\Users\\tusha\\AppData\\Local\\Temp\\ipykernel_22920\\3608124081.py:3: UserWarning: Parsing '22/12/2019' in DD/MM/YYYY format. Provide format or specify infer_datetime_format=True for consistent parsing.\n",
      "  weather['Date'] = pd.to_datetime(weather['Date']).dt.date\n",
      "C:\\Users\\tusha\\AppData\\Local\\Temp\\ipykernel_22920\\3608124081.py:3: UserWarning: Parsing '23/12/2019' in DD/MM/YYYY format. Provide format or specify infer_datetime_format=True for consistent parsing.\n",
      "  weather['Date'] = pd.to_datetime(weather['Date']).dt.date\n",
      "C:\\Users\\tusha\\AppData\\Local\\Temp\\ipykernel_22920\\3608124081.py:3: UserWarning: Parsing '24/12/2019' in DD/MM/YYYY format. Provide format or specify infer_datetime_format=True for consistent parsing.\n",
      "  weather['Date'] = pd.to_datetime(weather['Date']).dt.date\n",
      "C:\\Users\\tusha\\AppData\\Local\\Temp\\ipykernel_22920\\3608124081.py:3: UserWarning: Parsing '25/12/2019' in DD/MM/YYYY format. Provide format or specify infer_datetime_format=True for consistent parsing.\n",
      "  weather['Date'] = pd.to_datetime(weather['Date']).dt.date\n",
      "C:\\Users\\tusha\\AppData\\Local\\Temp\\ipykernel_22920\\3608124081.py:3: UserWarning: Parsing '26/12/2019' in DD/MM/YYYY format. Provide format or specify infer_datetime_format=True for consistent parsing.\n",
      "  weather['Date'] = pd.to_datetime(weather['Date']).dt.date\n",
      "C:\\Users\\tusha\\AppData\\Local\\Temp\\ipykernel_22920\\3608124081.py:3: UserWarning: Parsing '27/12/2019' in DD/MM/YYYY format. Provide format or specify infer_datetime_format=True for consistent parsing.\n",
      "  weather['Date'] = pd.to_datetime(weather['Date']).dt.date\n",
      "C:\\Users\\tusha\\AppData\\Local\\Temp\\ipykernel_22920\\3608124081.py:3: UserWarning: Parsing '28/12/2019' in DD/MM/YYYY format. Provide format or specify infer_datetime_format=True for consistent parsing.\n",
      "  weather['Date'] = pd.to_datetime(weather['Date']).dt.date\n",
      "C:\\Users\\tusha\\AppData\\Local\\Temp\\ipykernel_22920\\3608124081.py:3: UserWarning: Parsing '29/12/2019' in DD/MM/YYYY format. Provide format or specify infer_datetime_format=True for consistent parsing.\n",
      "  weather['Date'] = pd.to_datetime(weather['Date']).dt.date\n",
      "C:\\Users\\tusha\\AppData\\Local\\Temp\\ipykernel_22920\\3608124081.py:3: UserWarning: Parsing '30/12/2019' in DD/MM/YYYY format. Provide format or specify infer_datetime_format=True for consistent parsing.\n",
      "  weather['Date'] = pd.to_datetime(weather['Date']).dt.date\n",
      "C:\\Users\\tusha\\AppData\\Local\\Temp\\ipykernel_22920\\3608124081.py:3: UserWarning: Parsing '31/12/2019' in DD/MM/YYYY format. Provide format or specify infer_datetime_format=True for consistent parsing.\n",
      "  weather['Date'] = pd.to_datetime(weather['Date']).dt.date\n"
     ]
    }
   ],
   "source": [
    " # Convert 'Date' to a Date-time dtype\n",
    "import datetime as dt\n",
    "weather['Date'] = pd.to_datetime(weather['Date']).dt.date\n",
    "\n",
    "    #Check for duplicates\n",
    "\n",
    "weather_duplicates = weather.duplicated(subset = ['Date'], keep = False)\n",
    "\n",
    "        #Sorting\n",
    "duplicated_weather_entries = weather[weather_duplicates].sort_values('Date')\n",
    "\n",
    "        #Print relevant columns\n",
    "print(duplicated_weather_entries['Date']) ## no duplicate entries found\n",
    "\n",
    "    #Replace white space from '9am wind direction' with 'nan' then drop null values                   \n",
    "weather['9am wind direction'] = weather['9am wind direction'].replace('',np.nan, regex = True)\n",
    "weather = weather.dropna(axis = 0)"
   ]
  },
  {
   "cell_type": "code",
   "execution_count": 8,
   "metadata": {},
   "outputs": [
    {
     "name": "stdout",
     "output_type": "stream",
     "text": [
      "         Date  Minimum temperature (°C)  Maximum temperature (°C)  \\\n",
      "0  2019-01-07                       2.5                      18.1   \n",
      "1  2019-02-07                       3.2                      22.4   \n",
      "2  2019-03-07                       6.3                      17.4   \n",
      "3  2019-04-07                      11.7                      15.8   \n",
      "4  2019-05-07                      11.6                      18.1   \n",
      "\n",
      "   Rainfall (mm) Direction of maximum wind gust   \\\n",
      "0            0.0                               W   \n",
      "1            0.0                             NNW   \n",
      "2            0.0                               S   \n",
      "3            1.8                              SE   \n",
      "4            1.2                             ESE   \n",
      "\n",
      "   Speed of maximum wind gust (km/h) Time of maximum wind gust  \\\n",
      "0                               15.0                      0:33   \n",
      "1                               31.0                     14:16   \n",
      "2                               24.0                     13:52   \n",
      "3                               30.0                     13:21   \n",
      "4                               41.0                     14:33   \n",
      "\n",
      "   9am Temperature (°C)  9am relative humidity (%) 9am wind direction  \\\n",
      "0                   6.1                       77.0                WNW   \n",
      "1                   7.7                       68.0                 NW   \n",
      "2                  12.4                       53.0                SSW   \n",
      "3                  13.7                       81.0                SSW   \n",
      "4                  13.6                       84.0                  S   \n",
      "\n",
      "  9am wind speed (km/h)  3pm Temperature (°C)  3pm relative humidity (%)  \\\n",
      "0                     2                  17.6                       27.0   \n",
      "1                     6                  20.0                       35.0   \n",
      "2                     4                  14.6                       84.0   \n",
      "3                    15                  14.4                       88.0   \n",
      "4                     4                  16.5                       72.0   \n",
      "\n",
      "  3pm wind direction 3pm wind speed (km/h)  Avg Temp  \n",
      "0                NNE                     4     10.30  \n",
      "1                NNW                    19     12.80  \n",
      "2                  S                    15     11.85  \n",
      "3                SSE                    15     13.75  \n",
      "4                ESE                    24     14.85  \n"
     ]
    }
   ],
   "source": [
    "# Adding Avg Temp column\n",
    "weather['Avg Temp'] = weather[['Minimum temperature (°C)', 'Maximum temperature (°C)']].mean(axis = 1)\n",
    "print(weather.head())\n"
   ]
  },
  {
   "cell_type": "code",
   "execution_count": 9,
   "metadata": {},
   "outputs": [
    {
     "name": "stdout",
     "output_type": "stream",
     "text": [
      "Stored 'weather' (DataFrame)\n"
     ]
    }
   ],
   "source": [
    "# Store variable weather\n",
    "%store weather"
   ]
  },
  {
   "cell_type": "code",
   "execution_count": 10,
   "metadata": {},
   "outputs": [],
   "source": [
    "# Cleansing Corn Price DataFrame to prepare for Station 2\n",
    "    # Removing rows 0-13 & columns 12-14  as they are irrelevant to dataset\n",
    "corn_price_history_df.drop([0, 1, 2, 3, 4, 5, 6, 7, 8, 9, 10, 11, 12, 13], axis = 0, inplace = True)\n",
    "corn_price_history_df.head() # Rows dropped\n",
    "\n",
    "corn_price_history_df.drop(['Unnamed: 12', 'Unnamed: 13', 'Unnamed: 14'], axis = 1, inplace = True)\n",
    "corn_price_history_df.head() # Columns dropped\n",
    "\n",
    "    #Reset index\n",
    "corn_price_history_df = corn_price_history_df.reset_index(drop = True)\n",
    "\n",
    "    #Replace column names with header\n",
    "\n",
    "new_header = corn_price_history_df.iloc[0]\n",
    "corn_price_history_df = corn_price_history_df[1:]\n",
    "corn_price_history_df.columns = new_header\n",
    "\n",
    "corn_price_history_df = corn_price_history_df.fillna(0) #Fillned null value with as this was the first data entry required"
   ]
  },
  {
   "cell_type": "code",
   "execution_count": 11,
   "metadata": {},
   "outputs": [
    {
     "data": {
      "text/plain": [
       "<AxesSubplot:>"
      ]
     },
     "execution_count": 11,
     "metadata": {},
     "output_type": "execute_result"
    },
    {
     "data": {
      "image/png": "[encoded data removed]",
      "text/plain": [
       "<Figure size 432x288 with 1 Axes>"
      ]
     },
     "metadata": {
      "needs_background": "light"
     },
     "output_type": "display_data"
    }
   ],
   "source": [
    "corn_price_history_df.boxplot(rot = 90)"
   ]
  },
  {
   "cell_type": "code",
   "execution_count": 12,
   "metadata": {},
   "outputs": [
    {
     "name": "stdout",
     "output_type": "stream",
     "text": [
      "Stored 'corn_price_history_df' (DataFrame)\n"
     ]
    }
   ],
   "source": [
    "# Store corn_price_history dataframe\n",
    "%store corn_price_history_df"
   ]
  },
  {
   "cell_type": "code",
   "execution_count": 13,
   "metadata": {},
   "outputs": [
    {
     "data": {
      "text/html": [
       "<div>\n",
       "<style scoped>\n",
       "    .dataframe tbody tr th:only-of-type {\n",
       "        vertical-align: middle;\n",
       "    }\n",
       "\n",
       "    .dataframe tbody tr th {\n",
       "        vertical-align: top;\n",
       "    }\n",
       "\n",
       "    .dataframe thead th {\n",
       "        text-align: right;\n",
       "    }\n",
       "</style>\n",
       "<table border=\"1\" class=\"dataframe\">\n",
       "  <thead>\n",
       "    <tr style=\"text-align: right;\">\n",
       "      <th></th>\n",
       "      <th>Price History: W00-USA</th>\n",
       "      <th>Unnamed: 1</th>\n",
       "      <th>Unnamed: 2</th>\n",
       "      <th>Unnamed: 3</th>\n",
       "      <th>Unnamed: 4</th>\n",
       "      <th>Unnamed: 5</th>\n",
       "      <th>Unnamed: 6</th>\n",
       "      <th>Unnamed: 7</th>\n",
       "      <th>Unnamed: 8</th>\n",
       "      <th>Unnamed: 9</th>\n",
       "      <th>Unnamed: 10</th>\n",
       "      <th>Unnamed: 11</th>\n",
       "    </tr>\n",
       "  </thead>\n",
       "  <tbody>\n",
       "    <tr>\n",
       "      <th>14</th>\n",
       "      <td>Date</td>\n",
       "      <td>Last</td>\n",
       "      <td>Settlement Price</td>\n",
       "      <td>Change</td>\n",
       "      <td>% Change</td>\n",
       "      <td>Bid</td>\n",
       "      <td>Ask</td>\n",
       "      <td>Open Interest</td>\n",
       "      <td>CVol</td>\n",
       "      <td>Open</td>\n",
       "      <td>High</td>\n",
       "      <td>Low</td>\n",
       "    </tr>\n",
       "    <tr>\n",
       "      <th>15</th>\n",
       "      <td>2020-07-31 00:00:00</td>\n",
       "      <td>5.3075</td>\n",
       "      <td>5.3125</td>\n",
       "      <td>0.0175</td>\n",
       "      <td>0.3305</td>\n",
       "      <td>5.305</td>\n",
       "      <td>5.305</td>\n",
       "      <td>185655</td>\n",
       "      <td>44131</td>\n",
       "      <td>5.285</td>\n",
       "      <td>5.3525</td>\n",
       "      <td>5.285</td>\n",
       "    </tr>\n",
       "    <tr>\n",
       "      <th>16</th>\n",
       "      <td>2020-07-30 00:00:00</td>\n",
       "      <td>5.2875</td>\n",
       "      <td>5.295</td>\n",
       "      <td>-0.0325</td>\n",
       "      <td>-0.610042</td>\n",
       "      <td>5.285</td>\n",
       "      <td>5.29</td>\n",
       "      <td>186779</td>\n",
       "      <td>44413</td>\n",
       "      <td>5.3175</td>\n",
       "      <td>5.345</td>\n",
       "      <td>5.25</td>\n",
       "    </tr>\n",
       "    <tr>\n",
       "      <th>17</th>\n",
       "      <td>2020-07-29 00:00:00</td>\n",
       "      <td>5.33</td>\n",
       "      <td>5.3275</td>\n",
       "      <td>0.0925</td>\n",
       "      <td>1.766953</td>\n",
       "      <td>5.3275</td>\n",
       "      <td>5.33</td>\n",
       "      <td>185642</td>\n",
       "      <td>40067</td>\n",
       "      <td>5.235</td>\n",
       "      <td>5.3325</td>\n",
       "      <td>5.235</td>\n",
       "    </tr>\n",
       "    <tr>\n",
       "      <th>18</th>\n",
       "      <td>2020-07-28 00:00:00</td>\n",
       "      <td>5.235</td>\n",
       "      <td>5.235</td>\n",
       "      <td>-0.0425</td>\n",
       "      <td>-0.805306</td>\n",
       "      <td>5.235</td>\n",
       "      <td>5.2375</td>\n",
       "      <td>186475</td>\n",
       "      <td>48774</td>\n",
       "      <td>5.265</td>\n",
       "      <td>5.2975</td>\n",
       "      <td>5.1925</td>\n",
       "    </tr>\n",
       "  </tbody>\n",
       "</table>\n",
       "</div>"
      ],
      "text/plain": [
       "   Price History: W00-USA Unnamed: 1        Unnamed: 2 Unnamed: 3 Unnamed: 4  \\\n",
       "14                   Date       Last  Settlement Price     Change   % Change   \n",
       "15    2020-07-31 00:00:00     5.3075            5.3125     0.0175     0.3305   \n",
       "16    2020-07-30 00:00:00     5.2875             5.295    -0.0325  -0.610042   \n",
       "17    2020-07-29 00:00:00       5.33            5.3275     0.0925   1.766953   \n",
       "18    2020-07-28 00:00:00      5.235             5.235    -0.0425  -0.805306   \n",
       "\n",
       "   Unnamed: 5 Unnamed: 6     Unnamed: 7 Unnamed: 8 Unnamed: 9 Unnamed: 10  \\\n",
       "14        Bid        Ask  Open Interest       CVol       Open        High   \n",
       "15      5.305      5.305         185655      44131      5.285      5.3525   \n",
       "16      5.285       5.29         186779      44413     5.3175       5.345   \n",
       "17     5.3275       5.33         185642      40067      5.235      5.3325   \n",
       "18      5.235     5.2375         186475      48774      5.265      5.2975   \n",
       "\n",
       "   Unnamed: 11  \n",
       "14         Low  \n",
       "15       5.285  \n",
       "16        5.25  \n",
       "17       5.235  \n",
       "18      5.1925  "
      ]
     },
     "execution_count": 13,
     "metadata": {},
     "output_type": "execute_result"
    }
   ],
   "source": [
    "# Cleansig Wheat Prices DataFrame to prepare for Station 2\n",
    "\n",
    "    # Removing rows 0-13 and colums 12-14  as they are irrelevant to dataset\n",
    "wheat_price_history_df.drop([0, 1, 2, 3, 4, 5, 6, 7, 8, 9, 10, 11, 12, 13], axis = 0, inplace = True)\n",
    "wheat_price_history_df.drop(['Unnamed: 12', 'Unnamed: 13', 'Unnamed: 14'], axis = 1, inplace = True)\n",
    "wheat_price_history_df.head()"
   ]
  },
  {
   "cell_type": "code",
   "execution_count": 14,
   "metadata": {},
   "outputs": [
    {
     "data": {
      "text/html": [
       "<div>\n",
       "<style scoped>\n",
       "    .dataframe tbody tr th:only-of-type {\n",
       "        vertical-align: middle;\n",
       "    }\n",
       "\n",
       "    .dataframe tbody tr th {\n",
       "        vertical-align: top;\n",
       "    }\n",
       "\n",
       "    .dataframe thead th {\n",
       "        text-align: right;\n",
       "    }\n",
       "</style>\n",
       "<table border=\"1\" class=\"dataframe\">\n",
       "  <thead>\n",
       "    <tr style=\"text-align: right;\">\n",
       "      <th></th>\n",
       "      <th>Date</th>\n",
       "      <th>Last</th>\n",
       "      <th>Settlement Price</th>\n",
       "      <th>Change</th>\n",
       "      <th>% Change</th>\n",
       "      <th>Bid</th>\n",
       "      <th>Ask</th>\n",
       "      <th>Open Interest</th>\n",
       "      <th>CVol</th>\n",
       "      <th>Open</th>\n",
       "      <th>High</th>\n",
       "      <th>Low</th>\n",
       "    </tr>\n",
       "  </thead>\n",
       "  <tbody>\n",
       "    <tr>\n",
       "      <th>1</th>\n",
       "      <td>2020-07-31 00:00:00</td>\n",
       "      <td>5.3075</td>\n",
       "      <td>5.3125</td>\n",
       "      <td>0.0175</td>\n",
       "      <td>0.3305</td>\n",
       "      <td>5.305</td>\n",
       "      <td>5.305</td>\n",
       "      <td>185655</td>\n",
       "      <td>44131</td>\n",
       "      <td>5.285</td>\n",
       "      <td>5.3525</td>\n",
       "      <td>5.285</td>\n",
       "    </tr>\n",
       "    <tr>\n",
       "      <th>2</th>\n",
       "      <td>2020-07-30 00:00:00</td>\n",
       "      <td>5.2875</td>\n",
       "      <td>5.295</td>\n",
       "      <td>-0.0325</td>\n",
       "      <td>-0.610042</td>\n",
       "      <td>5.285</td>\n",
       "      <td>5.29</td>\n",
       "      <td>186779</td>\n",
       "      <td>44413</td>\n",
       "      <td>5.3175</td>\n",
       "      <td>5.345</td>\n",
       "      <td>5.25</td>\n",
       "    </tr>\n",
       "    <tr>\n",
       "      <th>3</th>\n",
       "      <td>2020-07-29 00:00:00</td>\n",
       "      <td>5.33</td>\n",
       "      <td>5.3275</td>\n",
       "      <td>0.0925</td>\n",
       "      <td>1.766953</td>\n",
       "      <td>5.3275</td>\n",
       "      <td>5.33</td>\n",
       "      <td>185642</td>\n",
       "      <td>40067</td>\n",
       "      <td>5.235</td>\n",
       "      <td>5.3325</td>\n",
       "      <td>5.235</td>\n",
       "    </tr>\n",
       "    <tr>\n",
       "      <th>4</th>\n",
       "      <td>2020-07-28 00:00:00</td>\n",
       "      <td>5.235</td>\n",
       "      <td>5.235</td>\n",
       "      <td>-0.0425</td>\n",
       "      <td>-0.805306</td>\n",
       "      <td>5.235</td>\n",
       "      <td>5.2375</td>\n",
       "      <td>186475</td>\n",
       "      <td>48774</td>\n",
       "      <td>5.265</td>\n",
       "      <td>5.2975</td>\n",
       "      <td>5.1925</td>\n",
       "    </tr>\n",
       "    <tr>\n",
       "      <th>5</th>\n",
       "      <td>2020-07-27 00:00:00</td>\n",
       "      <td>5.265</td>\n",
       "      <td>5.2775</td>\n",
       "      <td>-0.1175</td>\n",
       "      <td>-2.177943</td>\n",
       "      <td>5.265</td>\n",
       "      <td>5.2675</td>\n",
       "      <td>186372</td>\n",
       "      <td>45729</td>\n",
       "      <td>5.3875</td>\n",
       "      <td>5.39</td>\n",
       "      <td>5.2625</td>\n",
       "    </tr>\n",
       "  </tbody>\n",
       "</table>\n",
       "</div>"
      ],
      "text/plain": [
       "0                 Date    Last Settlement Price  Change  % Change     Bid  \\\n",
       "1  2020-07-31 00:00:00  5.3075           5.3125  0.0175    0.3305   5.305   \n",
       "2  2020-07-30 00:00:00  5.2875            5.295 -0.0325 -0.610042   5.285   \n",
       "3  2020-07-29 00:00:00    5.33           5.3275  0.0925  1.766953  5.3275   \n",
       "4  2020-07-28 00:00:00   5.235            5.235 -0.0425 -0.805306   5.235   \n",
       "5  2020-07-27 00:00:00   5.265           5.2775 -0.1175 -2.177943   5.265   \n",
       "\n",
       "0     Ask Open Interest   CVol    Open    High     Low  \n",
       "1   5.305        185655  44131   5.285  5.3525   5.285  \n",
       "2    5.29        186779  44413  5.3175   5.345    5.25  \n",
       "3    5.33        185642  40067   5.235  5.3325   5.235  \n",
       "4  5.2375        186475  48774   5.265  5.2975  5.1925  \n",
       "5  5.2675        186372  45729  5.3875    5.39  5.2625  "
      ]
     },
     "execution_count": 14,
     "metadata": {},
     "output_type": "execute_result"
    }
   ],
   "source": [
    "# Reset Index \n",
    "wheat_price_history_df = wheat_price_history_df.reset_index(drop = True)\n",
    "\n",
    "# Replace column names with header\n",
    "\n",
    "new_header_wheat = wheat_price_history_df.iloc[0]\n",
    "wheat_price_history_df = wheat_price_history_df[1:]\n",
    "wheat_price_history_df.columns = new_header_wheat\n",
    "\n",
    "wheat_price_history_df.head()"
   ]
  },
  {
   "cell_type": "code",
   "execution_count": 15,
   "metadata": {},
   "outputs": [
    {
     "name": "stdout",
     "output_type": "stream",
     "text": [
      "0\n",
      "Date                0\n",
      "Last                0\n",
      "Settlement Price    0\n",
      "Change              1\n",
      "% Change            1\n",
      "Bid                 0\n",
      "Ask                 0\n",
      "Open Interest       0\n",
      "CVol                0\n",
      "Open                0\n",
      "High                0\n",
      "Low                 0\n",
      "dtype: int64\n"
     ]
    }
   ],
   "source": [
    "# Checking null values in dataset\n",
    "print(wheat_price_history_df.isnull().sum())"
   ]
  },
  {
   "cell_type": "code",
   "execution_count": 16,
   "metadata": {},
   "outputs": [],
   "source": [
    "# Null values on first data entry so replace with 0\n",
    "wheat_price_history_df = wheat_price_history_df.fillna(0)\n"
   ]
  },
  {
   "cell_type": "code",
   "execution_count": 17,
   "metadata": {},
   "outputs": [
    {
     "data": {
      "text/plain": [
       "<AxesSubplot:>"
      ]
     },
     "execution_count": 17,
     "metadata": {},
     "output_type": "execute_result"
    },
    {
     "data": {
      "image/png": "[encoded data removed]",
      "text/plain": [
       "<Figure size 432x288 with 1 Axes>"
      ]
     },
     "metadata": {
      "needs_background": "light"
     },
     "output_type": "display_data"
    }
   ],
   "source": [
    "#Visualize outliers\n",
    "wheat_price_history_df.boxplot(rot = 90)"
   ]
  },
  {
   "cell_type": "code",
   "execution_count": 18,
   "metadata": {},
   "outputs": [
    {
     "name": "stdout",
     "output_type": "stream",
     "text": [
      "Stored 'wheat_price_history_df' (DataFrame)\n"
     ]
    }
   ],
   "source": [
    "%store wheat_price_history_df"
   ]
  },
  {
   "cell_type": "code",
   "execution_count": 19,
   "metadata": {},
   "outputs": [
    {
     "name": "stdout",
     "output_type": "stream",
     "text": [
      "\n"
     ]
    }
   ],
   "source": [
    "# Cash Accounts for clients\n",
    "    # Importing dataframes for client 1\n",
    "\n",
    "c1 = pd.read_excel(cash_account, na_values = 'Missing', sheet_name = '1')\n",
    "c1x = pd.read_excel(cash_account, na_values = 'Missing', sheet_name = '1x')\n",
    "\n",
    "print()\n",
    "    #DataFrames for client 2\n",
    "c2 = pd.read_excel(cash_account, na_values = 'Missing', sheet_name = '2')\n",
    "c2x = pd.read_excel(cash_account, na_values = 'Missing', sheet_name = '2x')\n",
    "\n",
    "    #Client 3\n",
    "c3 = pd.read_excel(cash_account, na_values = 'Missing', sheet_name = '3')\n",
    "c3x = pd.read_excel(cash_account, na_values = 'Missing', sheet_name = '3x')\n",
    "    \n",
    "    #Client4\n",
    "c4 = pd.read_excel(cash_account, na_values = 'Missing', sheet_name = '4')\n",
    "c4x = pd.read_excel(cash_account, na_values = 'Missing', sheet_name = '4x')\n",
    "\n",
    "    #Client 5\n",
    "c5 = pd.read_excel(cash_account, na_values = 'Missing', sheet_name = '5')\n",
    "c5x = pd.read_excel(cash_account, na_values = 'Missing', sheet_name =\"5x\")\n"
   ]
  },
  {
   "cell_type": "code",
   "execution_count": 20,
   "metadata": {},
   "outputs": [
    {
     "name": "stdout",
     "output_type": "stream",
     "text": [
      "0                 Date Daily Flows Cash Balance\n",
      "1  2019-06-25 00:00:00     1257.19      1257.19\n",
      "2  2019-06-27 00:00:00     -801.46       455.73\n",
      "3  2019-06-30 00:00:00        4000      4455.73\n",
      "4  2019-07-01 00:00:00      684.42      5140.15\n",
      "5  2019-07-03 00:00:00     -160.27      4979.88\n"
     ]
    }
   ],
   "source": [
    "new_header_c4x = c4x.iloc[0]\n",
    "c4x = c4x[1:]\n",
    "c4x.columns = new_header_c4x\n",
    "\n",
    "print(c4x.head())"
   ]
  },
  {
   "cell_type": "code",
   "execution_count": 21,
   "metadata": {},
   "outputs": [
    {
     "name": "stdout",
     "output_type": "stream",
     "text": [
      "Client                 0\n",
      "Transaction Date       0\n",
      "Type                   0\n",
      "Customer / Supplier    0\n",
      "Reference              0\n",
      "Description            0\n",
      "Flow                   0\n",
      "Balance                0\n",
      "dtype: int64\n",
      "Client          0\n",
      "Date            0\n",
      "Daily Flows     0\n",
      "Cash Balance    0\n",
      "dtype: int64\n"
     ]
    }
   ],
   "source": [
    "print(c1.isnull().sum())\n",
    "print(c1x.isnull().sum())\n",
    "\n",
    "\n"
   ]
  },
  {
   "cell_type": "code",
   "execution_count": 22,
   "metadata": {},
   "outputs": [
    {
     "name": "stdout",
     "output_type": "stream",
     "text": [
      "Stored 'c1' (DataFrame)\n",
      "Stored 'c1x' (DataFrame)\n",
      "Stored 'c2' (DataFrame)\n",
      "Stored 'c2x' (DataFrame)\n",
      "Stored 'c3' (DataFrame)\n",
      "Stored 'c3x' (DataFrame)\n",
      "Stored 'c4' (DataFrame)\n",
      "Stored 'c4x' (DataFrame)\n",
      "Stored 'c5' (DataFrame)\n",
      "Stored 'c5x' (DataFrame)\n"
     ]
    }
   ],
   "source": [
    "# Storing client cash accounts\n",
    "%store c1\n",
    "%store c1x\n",
    "%store c2\n",
    "%store c2x\n",
    "%store c3\n",
    "%store c3x\n",
    "%store c4\n",
    "%store c4x\n",
    "%store c5\n",
    "%store c5x\n"
   ]
  },
  {
   "cell_type": "code",
   "execution_count": 23,
   "metadata": {},
   "outputs": [
    {
     "name": "stdout",
     "output_type": "stream",
     "text": [
      "0            Last  Settlement Price      Change    % Change         Bid  \\\n",
      "count  504.000000        504.000000  504.000000  504.000000  504.000000   \n",
      "mean     5.110615          5.111176   -0.000536    0.002256    5.108616   \n",
      "std      0.320170          0.319091    0.079402    1.559667    0.320132   \n",
      "min      4.245000          4.247500   -0.277500   -5.555556    4.242500   \n",
      "25%      4.921875          4.919375   -0.055000   -1.060550    4.919375   \n",
      "50%      5.137500          5.138750   -0.002500   -0.049044    5.136250   \n",
      "75%      5.292500          5.300625    0.043125    0.856455    5.291875   \n",
      "max      5.825000          5.815000    0.267500    5.717620    5.822500   \n",
      "\n",
      "0             Ask  Open Interest           CVol        Open        High  \\\n",
      "count  504.000000     504.000000     504.000000  504.000000  504.000000   \n",
      "mean     5.112371  197313.069444   65664.382937    5.114112    5.173805   \n",
      "std      0.320329   40014.197688   20623.438573    0.320737    0.324001   \n",
      "min      4.245000   75819.000000   21205.000000    4.255000    4.342500   \n",
      "25%      4.924375  179564.750000   50547.500000    4.937500    4.999375   \n",
      "50%      5.140000  204672.500000   63220.000000    5.140000    5.190000   \n",
      "75%      5.294375  221176.250000   77124.500000    5.300000    5.352500   \n",
      "max      5.825000  285761.000000  166632.000000    5.817500    5.930000   \n",
      "\n",
      "0             Low  \n",
      "count  504.000000  \n",
      "mean     5.052396  \n",
      "std      0.315795  \n",
      "min      4.185000  \n",
      "25%      4.871875  \n",
      "50%      5.080000  \n",
      "75%      5.229375  \n",
      "max      5.752500  \n",
      "0            Last  Settlement Price      Change    % Change         Bid  \\\n",
      "count  504.000000        504.000000  504.000000  504.000000  504.000000   \n",
      "mean     3.713477          3.714439   -0.001260   -0.027524    3.711999   \n",
      "std      0.294108          0.294638    0.050439    1.327819    0.293998   \n",
      "min      3.117500          3.120000   -0.250000   -5.984440    3.115000   \n",
      "25%      3.593750          3.590000   -0.027500   -0.728058    3.591875   \n",
      "50%      3.731250          3.732500    0.000000    0.000000    3.730000   \n",
      "75%      3.832500          3.832500    0.023125    0.626360    3.828750   \n",
      "max      4.602500          4.592500    0.175000    4.698457    4.600000   \n",
      "\n",
      "0             Ask  Open Interest           CVol        Open        High  \\\n",
      "count  504.000000   5.040000e+02     504.000000  504.000000  504.000000   \n",
      "mean     3.714747   6.844741e+05  183851.303571    3.717321    3.749812   \n",
      "std      0.294080   1.730100e+05   73075.440282    0.296130    0.299274   \n",
      "min      3.117500   1.607000e+05   49930.000000    3.117500    3.165000   \n",
      "25%      3.595000   5.887572e+05  132417.500000    3.601875    3.629375   \n",
      "50%      3.732500   7.347240e+05  170685.000000    3.731250    3.762500   \n",
      "75%      3.833125   7.983320e+05  219179.750000    3.835000    3.860000   \n",
      "max      4.602500   1.004304e+06  498116.000000    4.640000    4.680000   \n",
      "\n",
      "0             Low  \n",
      "count  504.000000  \n",
      "mean     3.681806  \n",
      "std      0.287554  \n",
      "min      3.090000  \n",
      "25%      3.560000  \n",
      "50%      3.703750  \n",
      "75%      3.800625  \n",
      "max      4.515000  \n",
      "       Minimum temperature (°C)  Maximum temperature (°C)  Rainfall (mm)  \\\n",
      "count                396.000000                396.000000     396.000000   \n",
      "mean                  12.573864                 24.793939       1.604545   \n",
      "std                    5.360778                  6.436462       5.667521   \n",
      "min                    1.400000                 13.900000       0.000000   \n",
      "25%                    8.500000                 19.400000       0.000000   \n",
      "50%                   11.900000                 23.700000       0.000000   \n",
      "75%                   16.800000                 28.900000       0.200000   \n",
      "max                   32.000000                 43.500000      49.400000   \n",
      "\n",
      "       Speed of maximum wind gust (km/h)  9am Temperature (°C)  \\\n",
      "count                         396.000000            396.000000   \n",
      "mean                           38.638889             17.033333   \n",
      "std                            14.103179              5.468242   \n",
      "min                             9.000000              6.100000   \n",
      "25%                            29.500000             12.400000   \n",
      "50%                            37.000000             17.300000   \n",
      "75%                            46.000000             21.000000   \n",
      "max                            96.000000             34.800000   \n",
      "\n",
      "       9am relative humidity (%)  3pm Temperature (°C)  \\\n",
      "count                 396.000000            396.000000   \n",
      "mean                   67.436869             23.428030   \n",
      "std                    19.574294              6.478223   \n",
      "min                    18.000000             10.200000   \n",
      "25%                    57.000000             18.400000   \n",
      "50%                    70.000000             22.100000   \n",
      "75%                    80.250000             27.825000   \n",
      "max                    99.000000             42.500000   \n",
      "\n",
      "       3pm relative humidity (%)    Avg Temp  \n",
      "count                 396.000000  396.000000  \n",
      "mean                   44.393939   18.683902  \n",
      "std                    22.246664    5.420500  \n",
      "min                     6.000000    9.900000  \n",
      "25%                    27.750000   13.980000  \n",
      "50%                    42.000000   18.212500  \n",
      "75%                    59.000000   22.350000  \n",
      "max                    96.000000   37.500000  \n"
     ]
    }
   ],
   "source": [
    "#\n",
    "\n",
    "print(wheat_price_history_df.describe())\n",
    "print(corn_price_history_df.describe())\n",
    "print(weather.describe())\n"
   ]
  },
  {
   "cell_type": "code",
   "execution_count": 34,
   "metadata": {},
   "outputs": [
    {
     "data": {
      "image/png": "[encoded data removed]",
      "text/plain": [
       "<Figure size 432x288 with 2 Axes>"
      ]
     },
     "metadata": {
      "needs_background": "light"
     },
     "output_type": "display_data"
    },
    {
     "data": {
      "image/png": "[encoded data removed]",
      "text/plain": [
       "<Figure size 432x288 with 2 Axes>"
      ]
     },
     "metadata": {
      "needs_background": "light"
     },
     "output_type": "display_data"
    },
    {
     "data": {
      "image/png": "[encoded data removed]",
      "text/plain": [
       "<Figure size 432x288 with 2 Axes>"
      ]
     },
     "metadata": {
      "needs_background": "light"
     },
     "output_type": "display_data"
    },
    {
     "data": {
      "image/png": "[encoded data removed]",
      "text/plain": [
       "<Figure size 432x288 with 5 Axes>"
      ]
     },
     "metadata": {
      "needs_background": "light"
     },
     "output_type": "display_data"
    }
   ],
   "source": [
    "#Plots\n",
    "plt.subplot(2,1,1)\n",
    "weather['Avg Temp'].plot(color = 'orange')\n",
    "plt.legend()\n",
    "plt.title('Average Temperature and Rainfall')\n",
    "plt.subplot(2,1,2)\n",
    "weather['Rainfall (mm)'].plot()\n",
    "plt.legend()\n",
    "plt.show()\n",
    "\n",
    "#Corn\n",
    "plt.subplot(2,1,1)\n",
    "corn_price_history_df['Open Interest'].plot(color = 'orange')\n",
    "plt.legend()\n",
    "plt.title('Corn(Last and Open Interest)')\n",
    "plt.subplot(2,1,2)\n",
    "corn_price_history_df['Last'].plot()\n",
    "plt.legend()\n",
    "plt.show()\n",
    "\n",
    "#Wheat\n",
    "plt.subplot(2,1,1)\n",
    "wheat_price_history_df['Open Interest'].plot(color = 'orange')\n",
    "plt.legend()\n",
    "plt.title('Wheat(Last and Open Interest)')\n",
    "plt.subplot(2,1,2)\n",
    "wheat_price_history_df['Last'].plot()\n",
    "plt.legend()\n",
    "plt.show()\n",
    "\n",
    "#Clients\n",
    "plt.subplot(2,3,1)\n",
    "c1x['Cash Balance'].plot()\n",
    "plt.title('Client 1')\n",
    "plt.subplot(2,3,2)\n",
    "c2x['Cash Balance'].plot()\n",
    "plt.title(\"Client 2\")\n",
    "plt.subplot(2,3,3)\n",
    "c3x['Cash Balance'].plot()\n",
    "plt.title('Client 3')\n",
    "plt.subplot(2,3,4)\n",
    "c4x['Cash Balance'].plot()\n",
    "plt.title(\"Client 4\")\n",
    "plt.subplot(2,3,5)\n",
    "c5x['Cash Balance'].plot()\n",
    "plt.title('Client 5')\n",
    "plt.subplots_adjust(left=0.1,\n",
    "                    bottom=0.1, \n",
    "                    right=0.9, \n",
    "                    top=0.9, \n",
    "                    wspace=0.4, \n",
    "                    hspace=0.4)\n",
    "plt.show()\n",
    "\n"
   ]
  },
  {
   "cell_type": "code",
   "execution_count": null,
   "metadata": {},
   "outputs": [],
   "source": []
  }
 ],
 "metadata": {
  "kernelspec": {
   "display_name": "Python 3.9.12 ('base')",
   "language": "python",
   "name": "python3"
  },
  "language_info": {
   "codemirror_mode": {
    "name": "ipython",
    "version": 3
   },
   "file_extension": ".py",
   "mimetype": "text/x-python",
   "name": "python",
   "nbconvert_exporter": "python",
   "pygments_lexer": "ipython3",
   "version": "3.9.12"
  },
  "orig_nbformat": 4,
  "vscode": {
   "interpreter": {
    "hash": "d27248c22d6bbf40b99141c926a25499663e5d0577c220b3026585708ea0616a"
   }
  }
 },
 "nbformat": 4,
 "nbformat_minor": 2
}
